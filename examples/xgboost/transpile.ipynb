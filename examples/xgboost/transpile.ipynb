{
 "cells": [
  {
   "cell_type": "code",
   "execution_count": 1,
   "metadata": {},
   "outputs": [],
   "source": [
    "from xgboost import XGBClassifier, XGBRegressor\n",
    "from sklearn.datasets import load_iris\n",
    "from sklearn.preprocessing import MinMaxScaler\n",
    "import pandas as pd"
   ]
  },
  {
   "attachments": {},
   "cell_type": "markdown",
   "metadata": {},
   "source": [
    "### Loading toy dataset and rename columns"
   ]
  },
  {
   "cell_type": "code",
   "execution_count": 2,
   "metadata": {},
   "outputs": [],
   "source": [
    "data = load_iris()\n",
    "columns = data.feature_names\n",
    "columns = [c.replace(\" \", \"_\").replace(\"(\", \"\").replace(\")\", \"\") for c in columns]"
   ]
  },
  {
   "cell_type": "code",
   "execution_count": 3,
   "metadata": {},
   "outputs": [],
   "source": [
    "X = data[\"data\"]\n",
    "y = data[\"target\"]"
   ]
  },
  {
   "attachments": {},
   "cell_type": "markdown",
   "metadata": {},
   "source": [
    "### Apply min-max scaler to the dataset for correct work of quantization"
   ]
  },
  {
   "cell_type": "code",
   "execution_count": 4,
   "metadata": {},
   "outputs": [
    {
     "data": {
      "text/html": [
       "<div>\n",
       "<style scoped>\n",
       "    .dataframe tbody tr th:only-of-type {\n",
       "        vertical-align: middle;\n",
       "    }\n",
       "\n",
       "    .dataframe tbody tr th {\n",
       "        vertical-align: top;\n",
       "    }\n",
       "\n",
       "    .dataframe thead th {\n",
       "        text-align: right;\n",
       "    }\n",
       "</style>\n",
       "<table border=\"1\" class=\"dataframe\">\n",
       "  <thead>\n",
       "    <tr style=\"text-align: right;\">\n",
       "      <th></th>\n",
       "      <th>sepal_length_cm</th>\n",
       "      <th>sepal_width_cm</th>\n",
       "      <th>petal_length_cm</th>\n",
       "      <th>petal_width_cm</th>\n",
       "    </tr>\n",
       "  </thead>\n",
       "  <tbody>\n",
       "    <tr>\n",
       "      <th>0</th>\n",
       "      <td>0.222222</td>\n",
       "      <td>0.625000</td>\n",
       "      <td>0.067797</td>\n",
       "      <td>0.041667</td>\n",
       "    </tr>\n",
       "    <tr>\n",
       "      <th>1</th>\n",
       "      <td>0.166667</td>\n",
       "      <td>0.416667</td>\n",
       "      <td>0.067797</td>\n",
       "      <td>0.041667</td>\n",
       "    </tr>\n",
       "    <tr>\n",
       "      <th>2</th>\n",
       "      <td>0.111111</td>\n",
       "      <td>0.500000</td>\n",
       "      <td>0.050847</td>\n",
       "      <td>0.041667</td>\n",
       "    </tr>\n",
       "    <tr>\n",
       "      <th>3</th>\n",
       "      <td>0.083333</td>\n",
       "      <td>0.458333</td>\n",
       "      <td>0.084746</td>\n",
       "      <td>0.041667</td>\n",
       "    </tr>\n",
       "    <tr>\n",
       "      <th>4</th>\n",
       "      <td>0.194444</td>\n",
       "      <td>0.666667</td>\n",
       "      <td>0.067797</td>\n",
       "      <td>0.041667</td>\n",
       "    </tr>\n",
       "  </tbody>\n",
       "</table>\n",
       "</div>"
      ],
      "text/plain": [
       "   sepal_length_cm  sepal_width_cm  petal_length_cm  petal_width_cm\n",
       "0         0.222222        0.625000         0.067797        0.041667\n",
       "1         0.166667        0.416667         0.067797        0.041667\n",
       "2         0.111111        0.500000         0.050847        0.041667\n",
       "3         0.083333        0.458333         0.084746        0.041667\n",
       "4         0.194444        0.666667         0.067797        0.041667"
      ]
     },
     "execution_count": 4,
     "metadata": {},
     "output_type": "execute_result"
    }
   ],
   "source": [
    "X = MinMaxScaler().fit_transform(X)\n",
    "X = pd.DataFrame(X, columns=columns)\n",
    "X.head()"
   ]
  },
  {
   "attachments": {},
   "cell_type": "markdown",
   "metadata": {},
   "source": [
    "### Splittting our data on train and test"
   ]
  },
  {
   "cell_type": "code",
   "execution_count": 5,
   "metadata": {},
   "outputs": [],
   "source": [
    "from sklearn.model_selection import train_test_split\n",
    "\n",
    "X_train, X_test, y_train, y_test = train_test_split(X, y, test_size=0.2, shuffle=True)"
   ]
  },
  {
   "attachments": {},
   "cell_type": "markdown",
   "metadata": {},
   "source": [
    "### Training our model"
   ]
  },
  {
   "cell_type": "code",
   "execution_count": 6,
   "metadata": {},
   "outputs": [
    {
     "data": {
      "text/html": [
       "<style>#sk-container-id-1 {color: black;background-color: white;}#sk-container-id-1 pre{padding: 0;}#sk-container-id-1 div.sk-toggleable {background-color: white;}#sk-container-id-1 label.sk-toggleable__label {cursor: pointer;display: block;width: 100%;margin-bottom: 0;padding: 0.3em;box-sizing: border-box;text-align: center;}#sk-container-id-1 label.sk-toggleable__label-arrow:before {content: \"▸\";float: left;margin-right: 0.25em;color: #696969;}#sk-container-id-1 label.sk-toggleable__label-arrow:hover:before {color: black;}#sk-container-id-1 div.sk-estimator:hover label.sk-toggleable__label-arrow:before {color: black;}#sk-container-id-1 div.sk-toggleable__content {max-height: 0;max-width: 0;overflow: hidden;text-align: left;background-color: #f0f8ff;}#sk-container-id-1 div.sk-toggleable__content pre {margin: 0.2em;color: black;border-radius: 0.25em;background-color: #f0f8ff;}#sk-container-id-1 input.sk-toggleable__control:checked~div.sk-toggleable__content {max-height: 200px;max-width: 100%;overflow: auto;}#sk-container-id-1 input.sk-toggleable__control:checked~label.sk-toggleable__label-arrow:before {content: \"▾\";}#sk-container-id-1 div.sk-estimator input.sk-toggleable__control:checked~label.sk-toggleable__label {background-color: #d4ebff;}#sk-container-id-1 div.sk-label input.sk-toggleable__control:checked~label.sk-toggleable__label {background-color: #d4ebff;}#sk-container-id-1 input.sk-hidden--visually {border: 0;clip: rect(1px 1px 1px 1px);clip: rect(1px, 1px, 1px, 1px);height: 1px;margin: -1px;overflow: hidden;padding: 0;position: absolute;width: 1px;}#sk-container-id-1 div.sk-estimator {font-family: monospace;background-color: #f0f8ff;border: 1px dotted black;border-radius: 0.25em;box-sizing: border-box;margin-bottom: 0.5em;}#sk-container-id-1 div.sk-estimator:hover {background-color: #d4ebff;}#sk-container-id-1 div.sk-parallel-item::after {content: \"\";width: 100%;border-bottom: 1px solid gray;flex-grow: 1;}#sk-container-id-1 div.sk-label:hover label.sk-toggleable__label {background-color: #d4ebff;}#sk-container-id-1 div.sk-serial::before {content: \"\";position: absolute;border-left: 1px solid gray;box-sizing: border-box;top: 0;bottom: 0;left: 50%;z-index: 0;}#sk-container-id-1 div.sk-serial {display: flex;flex-direction: column;align-items: center;background-color: white;padding-right: 0.2em;padding-left: 0.2em;position: relative;}#sk-container-id-1 div.sk-item {position: relative;z-index: 1;}#sk-container-id-1 div.sk-parallel {display: flex;align-items: stretch;justify-content: center;background-color: white;position: relative;}#sk-container-id-1 div.sk-item::before, #sk-container-id-1 div.sk-parallel-item::before {content: \"\";position: absolute;border-left: 1px solid gray;box-sizing: border-box;top: 0;bottom: 0;left: 50%;z-index: -1;}#sk-container-id-1 div.sk-parallel-item {display: flex;flex-direction: column;z-index: 1;position: relative;background-color: white;}#sk-container-id-1 div.sk-parallel-item:first-child::after {align-self: flex-end;width: 50%;}#sk-container-id-1 div.sk-parallel-item:last-child::after {align-self: flex-start;width: 50%;}#sk-container-id-1 div.sk-parallel-item:only-child::after {width: 0;}#sk-container-id-1 div.sk-dashed-wrapped {border: 1px dashed gray;margin: 0 0.4em 0.5em 0.4em;box-sizing: border-box;padding-bottom: 0.4em;background-color: white;}#sk-container-id-1 div.sk-label label {font-family: monospace;font-weight: bold;display: inline-block;line-height: 1.2em;}#sk-container-id-1 div.sk-label-container {text-align: center;}#sk-container-id-1 div.sk-container {/* jupyter's `normalize.less` sets `[hidden] { display: none; }` but bootstrap.min.css set `[hidden] { display: none !important; }` so we also need the `!important` here to be able to override the default hidden behavior on the sphinx rendered scikit-learn.org. See: https://github.com/scikit-learn/scikit-learn/issues/21755 */display: inline-block !important;position: relative;}#sk-container-id-1 div.sk-text-repr-fallback {display: none;}</style><div id=\"sk-container-id-1\" class=\"sk-top-container\"><div class=\"sk-text-repr-fallback\"><pre>XGBClassifier(base_score=None, booster=None, callbacks=None,\n",
       "              colsample_bylevel=None, colsample_bynode=None,\n",
       "              colsample_bytree=None, early_stopping_rounds=None,\n",
       "              enable_categorical=False, eval_metric=None, feature_types=None,\n",
       "              gamma=None, gpu_id=None, grow_policy=None, importance_type=None,\n",
       "              interaction_constraints=None, learning_rate=None, max_bin=None,\n",
       "              max_cat_threshold=None, max_cat_to_onehot=None,\n",
       "              max_delta_step=None, max_depth=None, max_leaves=None,\n",
       "              min_child_weight=None, missing=nan, monotone_constraints=None,\n",
       "              n_estimators=6, n_jobs=None, num_parallel_tree=None,\n",
       "              objective=&#x27;multi:softprob&#x27;, predictor=None, ...)</pre><b>In a Jupyter environment, please rerun this cell to show the HTML representation or trust the notebook. <br />On GitHub, the HTML representation is unable to render, please try loading this page with nbviewer.org.</b></div><div class=\"sk-container\" hidden><div class=\"sk-item\"><div class=\"sk-estimator sk-toggleable\"><input class=\"sk-toggleable__control sk-hidden--visually\" id=\"sk-estimator-id-1\" type=\"checkbox\" checked><label for=\"sk-estimator-id-1\" class=\"sk-toggleable__label sk-toggleable__label-arrow\">XGBClassifier</label><div class=\"sk-toggleable__content\"><pre>XGBClassifier(base_score=None, booster=None, callbacks=None,\n",
       "              colsample_bylevel=None, colsample_bynode=None,\n",
       "              colsample_bytree=None, early_stopping_rounds=None,\n",
       "              enable_categorical=False, eval_metric=None, feature_types=None,\n",
       "              gamma=None, gpu_id=None, grow_policy=None, importance_type=None,\n",
       "              interaction_constraints=None, learning_rate=None, max_bin=None,\n",
       "              max_cat_threshold=None, max_cat_to_onehot=None,\n",
       "              max_delta_step=None, max_depth=None, max_leaves=None,\n",
       "              min_child_weight=None, missing=nan, monotone_constraints=None,\n",
       "              n_estimators=6, n_jobs=None, num_parallel_tree=None,\n",
       "              objective=&#x27;multi:softprob&#x27;, predictor=None, ...)</pre></div></div></div></div></div>"
      ],
      "text/plain": [
       "XGBClassifier(base_score=None, booster=None, callbacks=None,\n",
       "              colsample_bylevel=None, colsample_bynode=None,\n",
       "              colsample_bytree=None, early_stopping_rounds=None,\n",
       "              enable_categorical=False, eval_metric=None, feature_types=None,\n",
       "              gamma=None, gpu_id=None, grow_policy=None, importance_type=None,\n",
       "              interaction_constraints=None, learning_rate=None, max_bin=None,\n",
       "              max_cat_threshold=None, max_cat_to_onehot=None,\n",
       "              max_delta_step=None, max_depth=None, max_leaves=None,\n",
       "              min_child_weight=None, missing=nan, monotone_constraints=None,\n",
       "              n_estimators=6, n_jobs=None, num_parallel_tree=None,\n",
       "              objective='multi:softprob', predictor=None, ...)"
      ]
     },
     "execution_count": 6,
     "metadata": {},
     "output_type": "execute_result"
    }
   ],
   "source": [
    "model = XGBClassifier(n_estimators=6)\n",
    "model.fit(X_train, y_train)"
   ]
  },
  {
   "attachments": {},
   "cell_type": "markdown",
   "metadata": {},
   "source": [
    "### Score Xgboost classifier"
   ]
  },
  {
   "cell_type": "code",
   "execution_count": 7,
   "metadata": {},
   "outputs": [
    {
     "data": {
      "text/plain": [
       "1.0"
      ]
     },
     "execution_count": 7,
     "metadata": {},
     "output_type": "execute_result"
    }
   ],
   "source": [
    "from sklearn.metrics import f1_score\n",
    "\n",
    "f1_score(y_test, model.predict(X_test), average=\"macro\")"
   ]
  },
  {
   "attachments": {},
   "cell_type": "markdown",
   "metadata": {},
   "source": [
    "### Let's convert our model to Leo Smart-Contract"
   ]
  },
  {
   "cell_type": "code",
   "execution_count": 8,
   "metadata": {},
   "outputs": [],
   "source": [
    "import sys\n",
    "sys.path.append(\"../../leo-transpiler-python\") # Provide path to leo-transpiler so, that it can be imported"
   ]
  },
  {
   "cell_type": "code",
   "execution_count": 9,
   "metadata": {},
   "outputs": [
    {
     "data": {
      "text/plain": [
       "XgboostTranspiler()"
      ]
     },
     "execution_count": 9,
     "metadata": {},
     "output_type": "execute_result"
    }
   ],
   "source": [
    "from leo_transpiler.boostings import XgboostTranspiler\n",
    "\n",
    "transpiler = XgboostTranspiler(model, quantize_bits=16)\n",
    "transpiler"
   ]
  },
  {
   "attachments": {},
   "cell_type": "markdown",
   "metadata": {},
   "source": [
    "### Let's single Xgboost tree transpilation in Leo Smart-Contract"
   ]
  },
  {
   "cell_type": "code",
   "execution_count": 10,
   "metadata": {},
   "outputs": [
    {
     "name": "stdout",
     "output_type": "stream",
     "text": [
      "if ( petal_length_cm < 8053i16 ) { \n",
      "    return 13960i16; \n",
      "} else { \n",
      "    return -7171i16; \n",
      "}\n"
     ]
    }
   ],
   "source": [
    "nodes = transpiler.get_leo_ast_nodes()\n",
    "print(nodes[0].to_code())"
   ]
  },
  {
   "attachments": {},
   "cell_type": "markdown",
   "metadata": {},
   "source": [
    "### Now we can save the whole program to source directory\n",
    "\n",
    "But first we need to initalize Aleo project\n",
    "\n",
    "```shell\n",
    "leo new iris\n",
    "```"
   ]
  },
  {
   "cell_type": "code",
   "execution_count": 11,
   "metadata": {},
   "outputs": [
    {
     "name": "stdout",
     "output_type": "stream",
     "text": [
      "\u001b[1;36m       Leo\u001b[0m ✅ Created an Aleo program '\u001b[1miris\u001b[0m' \u001b[2m(in \"/Users/danielto1404/Documents/crypto/aleo/aleo-recommender/examples/xgboost/iris\")\u001b[0m\n"
     ]
    }
   ],
   "source": [
    "!leo new iris"
   ]
  },
  {
   "cell_type": "code",
   "execution_count": 12,
   "metadata": {},
   "outputs": [],
   "source": [
    "transpiler.save_code(\"./iris/src\", program_name=\"iris\")"
   ]
  },
  {
   "cell_type": "code",
   "execution_count": 13,
   "metadata": {},
   "outputs": [
    {
     "name": "stdout",
     "output_type": "stream",
     "text": [
      "program iris.aleo { \n",
      "     function class_0_tree_0 ( sepal_length_cm: i16, sepal_width_cm: i16, petal_length_cm: i16, petal_width_cm: i16 ) -> i16 { \n",
      "        if ( petal_length_cm < 8053i16 ) { \n",
      "            return 13960i16; \n",
      "        } else { \n",
      "            return -7171i16; \n",
      "        } \n",
      "    }\n",
      "\n",
      "    function class_1_tree_0 ( sepal_length_cm: i16, sepal_width_cm: i16, petal_length_cm: i16, petal_width_cm: i16 ) -> i16 { \n",
      "        if ( sepal_width_cm < 12970i16 ) { \n",
      "            if ( petal_width_cm < 21162i16 ) { \n",
      "                if ( petal_length_cm < 21937i16 ) { \n",
      "                    if ( sepal_length_cm < 7736i16 ) { \n",
      "                        return 4213i16; \n",
      "                    } else { \n",
      "                        return 13528i16; \n",
      "                    } \n",
      "                } else { \n",
      "                    return -1179i16; \n",
      "                } \n",
      "            } else { \n",
      "                return -6411i16; \n",
      "            } \n",
      "        } else { \n",
      "            if ( petal_length_cm < 11107i16 ) { \n",
      "                return -6970i16; \n",
      "            } else { \n",
      "                if ( petal_length_cm < 22493i16 ) { \n",
      "                    if ( petal_width_cm < 22528i16 ) { \n",
      "                        return 11796i16; \n",
      "                    } else { \n",
      "                        return 0i16; \n",
      "                    } \n",
      "                } else { \n",
      "                    return -6688i16; \n",
      "                } \n",
      "            } \n",
      "        } \n",
      "    }\n",
      "\n",
      "    function class_2_tree_0 ( sepal_length_cm: i16, sepal_width_cm: i16, petal_length_cm: i16, petal_width_cm: i16 ) -> i16 { \n",
      "        if ( petal_length_cm < 20827i16 ) { \n",
      "            if ( petal_width_cm < 19797i16 ) { \n",
      "                return -7146i16; \n",
      "            } else { \n",
      "                return 0i16; \n",
      "            } \n",
      "        } else { \n",
      "            if ( petal_width_cm < 22528i16 ) { \n",
      "                if ( petal_length_cm < 22493i16 ) { \n",
      "                    return -1179i16; \n",
      "                } else { \n",
      "                    return 5898i16; \n",
      "                } \n",
      "            } else { \n",
      "                if ( petal_length_cm < 21382i16 ) { \n",
      "                    return 4213i16; \n",
      "                } else { \n",
      "                    return 13854i16; \n",
      "                } \n",
      "            } \n",
      "        } \n",
      "    }\n",
      "\n",
      "    function class_0_tree_1 ( sepal_length_cm: i16, sepal_width_cm: i16, petal_length_cm: i16, petal_width_cm: i16 ) -> i16 { \n",
      "        if ( petal_length_cm < 8053i16 ) { \n",
      "            return 9635i16; \n",
      "        } else { \n",
      "            return -6435i16; \n",
      "        } \n",
      "    }\n",
      "\n",
      "    function class_1_tree_1 ( sepal_length_cm: i16, sepal_width_cm: i16, petal_length_cm: i16, petal_width_cm: i16 ) -> i16 { \n",
      "        if ( petal_length_cm < 8053i16 ) { \n",
      "            return -6230i16; \n",
      "        } else { \n",
      "            if ( petal_width_cm < 22528i16 ) { \n",
      "                if ( petal_length_cm < 21937i16 ) { \n",
      "                    if ( petal_width_cm < 19797i16 ) { \n",
      "                        return 9736i16; \n",
      "                    } else { \n",
      "                        return 3258i16; \n",
      "                    } \n",
      "                } else { \n",
      "                    if ( petal_width_cm < 19797i16 ) { \n",
      "                        return -4225i16; \n",
      "                    } else { \n",
      "                        return 3929i16; \n",
      "                    } \n",
      "                } \n",
      "            } else { \n",
      "                if ( petal_length_cm < 21382i16 ) { \n",
      "                    return 94i16; \n",
      "                } else { \n",
      "                    return -6194i16; \n",
      "                } \n",
      "            } \n",
      "        } \n",
      "    }\n",
      "\n",
      "    function class_2_tree_1 ( sepal_length_cm: i16, sepal_width_cm: i16, petal_length_cm: i16, petal_width_cm: i16 ) -> i16 { \n",
      "        if ( petal_length_cm < 20827i16 ) { \n",
      "            if ( petal_width_cm < 19797i16 ) { \n",
      "                return -6389i16; \n",
      "            } else { \n",
      "                return 5i16; \n",
      "            } \n",
      "        } else { \n",
      "            if ( petal_width_cm < 22528i16 ) { \n",
      "                if ( petal_length_cm < 22493i16 ) { \n",
      "                    return -880i16; \n",
      "                } else { \n",
      "                    return 4570i16; \n",
      "                } \n",
      "            } else { \n",
      "                if ( petal_length_cm < 21382i16 ) { \n",
      "                    return 3292i16; \n",
      "                } else { \n",
      "                    return 9604i16; \n",
      "                } \n",
      "            } \n",
      "        } \n",
      "    }\n",
      "\n",
      "    function class_0_tree_2 ( sepal_length_cm: i16, sepal_width_cm: i16, petal_length_cm: i16, petal_width_cm: i16 ) -> i16 { \n",
      "        if ( petal_length_cm < 8053i16 ) { \n",
      "            return 7710i16; \n",
      "        } else { \n",
      "            return -5932i16; \n",
      "        } \n",
      "    }\n",
      "\n",
      "    function class_1_tree_2 ( sepal_length_cm: i16, sepal_width_cm: i16, petal_length_cm: i16, petal_width_cm: i16 ) -> i16 { \n",
      "        if ( petal_length_cm < 8053i16 ) { \n",
      "            return -5692i16; \n",
      "        } else { \n",
      "            if ( petal_width_cm < 22528i16 ) { \n",
      "                if ( petal_length_cm < 21937i16 ) { \n",
      "                    if ( sepal_length_cm < 7736i16 ) { \n",
      "                        return 2298i16; \n",
      "                    } else { \n",
      "                        return 7813i16; \n",
      "                    } \n",
      "                } else { \n",
      "                    if ( petal_width_cm < 19797i16 ) { \n",
      "                        return -4023i16; \n",
      "                    } else { \n",
      "                        return 3458i16; \n",
      "                    } \n",
      "                } \n",
      "            } else { \n",
      "                if ( petal_length_cm < 21382i16 ) { \n",
      "                    return 52i16; \n",
      "                } else { \n",
      "                    return -5651i16; \n",
      "                } \n",
      "            } \n",
      "        } \n",
      "    }\n",
      "\n",
      "    function class_2_tree_2 ( sepal_length_cm: i16, sepal_width_cm: i16, petal_length_cm: i16, petal_width_cm: i16 ) -> i16 { \n",
      "        if ( petal_length_cm < 20827i16 ) { \n",
      "            if ( petal_width_cm < 19797i16 ) { \n",
      "                return -5865i16; \n",
      "            } else { \n",
      "                return -25i16; \n",
      "            } \n",
      "        } else { \n",
      "            if ( petal_width_cm < 22528i16 ) { \n",
      "                if ( petal_length_cm < 22493i16 ) { \n",
      "                    return -714i16; \n",
      "                } else { \n",
      "                    return 3748i16; \n",
      "                } \n",
      "            } else { \n",
      "                if ( sepal_length_cm < 15018i16 ) { \n",
      "                    return 3327i16; \n",
      "                } else { \n",
      "                    return 7826i16; \n",
      "                } \n",
      "            } \n",
      "        } \n",
      "    }\n",
      "\n",
      "    function class_0_tree_3 ( sepal_length_cm: i16, sepal_width_cm: i16, petal_length_cm: i16, petal_width_cm: i16 ) -> i16 { \n",
      "        if ( petal_length_cm < 8053i16 ) { \n",
      "            return 6640i16; \n",
      "        } else { \n",
      "            return -5575i16; \n",
      "        } \n",
      "    }\n",
      "\n",
      "    function class_1_tree_3 ( sepal_length_cm: i16, sepal_width_cm: i16, petal_length_cm: i16, petal_width_cm: i16 ) -> i16 { \n",
      "        if ( petal_length_cm < 8053i16 ) { \n",
      "            return -5290i16; \n",
      "        } else { \n",
      "            if ( petal_width_cm < 22528i16 ) { \n",
      "                if ( petal_length_cm < 21937i16 ) { \n",
      "                    if ( sepal_length_cm < 7736i16 ) { \n",
      "                        return 1687i16; \n",
      "                    } else { \n",
      "                        return 6725i16; \n",
      "                    } \n",
      "                } else { \n",
      "                    if ( petal_width_cm < 19797i16 ) { \n",
      "                        return -3824i16; \n",
      "                    } else { \n",
      "                        return 3097i16; \n",
      "                    } \n",
      "                } \n",
      "            } else { \n",
      "                if ( petal_length_cm < 21382i16 ) { \n",
      "                    return 269i16; \n",
      "                } else { \n",
      "                    return -5253i16; \n",
      "                } \n",
      "            } \n",
      "        } \n",
      "    }\n",
      "\n",
      "    function class_2_tree_3 ( sepal_length_cm: i16, sepal_width_cm: i16, petal_length_cm: i16, petal_width_cm: i16 ) -> i16 { \n",
      "        if ( petal_length_cm < 20827i16 ) { \n",
      "            if ( petal_width_cm < 19797i16 ) { \n",
      "                return -5492i16; \n",
      "            } else { \n",
      "                return 183i16; \n",
      "            } \n",
      "        } else { \n",
      "            if ( petal_width_cm < 22528i16 ) { \n",
      "                if ( petal_width_cm < 19797i16 ) { \n",
      "                    return 3237i16; \n",
      "                } else { \n",
      "                    return -998i16; \n",
      "                } \n",
      "            } else { \n",
      "                if ( petal_length_cm < 21382i16 ) { \n",
      "                    return 1907i16; \n",
      "                } else { \n",
      "                    return 6632i16; \n",
      "                } \n",
      "            } \n",
      "        } \n",
      "    }\n",
      "\n",
      "    function class_0_tree_4 ( sepal_length_cm: i16, sepal_width_cm: i16, petal_length_cm: i16, petal_width_cm: i16 ) -> i16 { \n",
      "        if ( petal_length_cm < 8053i16 ) { \n",
      "            return 5962i16; \n",
      "        } else { \n",
      "            return -5302i16; \n",
      "        } \n",
      "    }\n",
      "\n",
      "    function class_1_tree_4 ( sepal_length_cm: i16, sepal_width_cm: i16, petal_length_cm: i16, petal_width_cm: i16 ) -> i16 { \n",
      "        if ( petal_length_cm < 8053i16 ) { \n",
      "            return -4965i16; \n",
      "        } else { \n",
      "            if ( petal_width_cm < 21162i16 ) { \n",
      "                if ( petal_length_cm < 21937i16 ) { \n",
      "                    return 6148i16; \n",
      "                } else { \n",
      "                    return -1746i16; \n",
      "                } \n",
      "            } else { \n",
      "                if ( petal_length_cm < 22493i16 ) { \n",
      "                    if ( sepal_width_cm < 12288i16 ) { \n",
      "                        return -4233i16; \n",
      "                    } else { \n",
      "                        return 2278i16; \n",
      "                    } \n",
      "                } else { \n",
      "                    return -4807i16; \n",
      "                } \n",
      "            } \n",
      "        } \n",
      "    }\n",
      "\n",
      "    function class_2_tree_4 ( sepal_length_cm: i16, sepal_width_cm: i16, petal_length_cm: i16, petal_width_cm: i16 ) -> i16 { \n",
      "        if ( petal_length_cm < 20827i16 ) { \n",
      "            if ( petal_width_cm < 19797i16 ) { \n",
      "                return -5205i16; \n",
      "            } else { \n",
      "                return 380i16; \n",
      "            } \n",
      "        } else { \n",
      "            if ( petal_width_cm < 22528i16 ) { \n",
      "                if ( petal_width_cm < 19797i16 ) { \n",
      "                    return 2784i16; \n",
      "                } else { \n",
      "                    return -856i16; \n",
      "                } \n",
      "            } else { \n",
      "                if ( sepal_length_cm < 15018i16 ) { \n",
      "                    return 1699i16; \n",
      "                } else { \n",
      "                    return 6091i16; \n",
      "                } \n",
      "            } \n",
      "        } \n",
      "    }\n",
      "\n",
      "    function class_0_tree_5 ( sepal_length_cm: i16, sepal_width_cm: i16, petal_length_cm: i16, petal_width_cm: i16 ) -> i16 { \n",
      "        if ( petal_length_cm < 8053i16 ) { \n",
      "            return 5489i16; \n",
      "        } else { \n",
      "            return -5079i16; \n",
      "        } \n",
      "    }\n",
      "\n",
      "    function class_1_tree_5 ( sepal_length_cm: i16, sepal_width_cm: i16, petal_length_cm: i16, petal_width_cm: i16 ) -> i16 { \n",
      "        if ( petal_length_cm < 8053i16 ) { \n",
      "            return -4682i16; \n",
      "        } else { \n",
      "            if ( petal_width_cm < 21162i16 ) { \n",
      "                if ( petal_length_cm < 21937i16 ) { \n",
      "                    return 5658i16; \n",
      "                } else { \n",
      "                    return -1629i16; \n",
      "                } \n",
      "            } else { \n",
      "                if ( petal_length_cm < 22493i16 ) { \n",
      "                    if ( sepal_width_cm < 12288i16 ) { \n",
      "                        return -3953i16; \n",
      "                    } else { \n",
      "                        return 2195i16; \n",
      "                    } \n",
      "                } else { \n",
      "                    return -4509i16; \n",
      "                } \n",
      "            } \n",
      "        } \n",
      "    }\n",
      "\n",
      "    function class_2_tree_5 ( sepal_length_cm: i16, sepal_width_cm: i16, petal_length_cm: i16, petal_width_cm: i16 ) -> i16 { \n",
      "        if ( petal_length_cm < 20827i16 ) { \n",
      "            if ( petal_width_cm < 19797i16 ) { \n",
      "                return -4959i16; \n",
      "            } else { \n",
      "                return 433i16; \n",
      "            } \n",
      "        } else { \n",
      "            if ( petal_length_cm < 23048i16 ) { \n",
      "                if ( petal_width_cm < 22528i16 ) { \n",
      "                    return -847i16; \n",
      "                } else { \n",
      "                    if ( sepal_length_cm < 15018i16 ) { \n",
      "                        return 1248i16; \n",
      "                    } else { \n",
      "                        return 4735i16; \n",
      "                    } \n",
      "                } \n",
      "            } else { \n",
      "                return 5626i16; \n",
      "            } \n",
      "        } \n",
      "    }\n",
      "\n",
      "    transition main ( sepal_length_cm: i16, sepal_width_cm: i16, petal_length_cm: i16, petal_width_cm: i16 ) -> i16 { \n",
      "        let class_0_pred_0: i16 = class_0_tree_0(sepal_length_cm, sepal_width_cm, petal_length_cm, petal_width_cm);\n",
      "        let class_1_pred_0: i16 = class_1_tree_0(sepal_length_cm, sepal_width_cm, petal_length_cm, petal_width_cm);\n",
      "        let class_2_pred_0: i16 = class_2_tree_0(sepal_length_cm, sepal_width_cm, petal_length_cm, petal_width_cm);\n",
      "        let class_0_pred_1: i16 = class_0_tree_1(sepal_length_cm, sepal_width_cm, petal_length_cm, petal_width_cm);\n",
      "        let class_1_pred_1: i16 = class_1_tree_1(sepal_length_cm, sepal_width_cm, petal_length_cm, petal_width_cm);\n",
      "        let class_2_pred_1: i16 = class_2_tree_1(sepal_length_cm, sepal_width_cm, petal_length_cm, petal_width_cm);\n",
      "        let class_0_pred_2: i16 = class_0_tree_2(sepal_length_cm, sepal_width_cm, petal_length_cm, petal_width_cm);\n",
      "        let class_1_pred_2: i16 = class_1_tree_2(sepal_length_cm, sepal_width_cm, petal_length_cm, petal_width_cm);\n",
      "        let class_2_pred_2: i16 = class_2_tree_2(sepal_length_cm, sepal_width_cm, petal_length_cm, petal_width_cm);\n",
      "        let class_0_pred_3: i16 = class_0_tree_3(sepal_length_cm, sepal_width_cm, petal_length_cm, petal_width_cm);\n",
      "        let class_1_pred_3: i16 = class_1_tree_3(sepal_length_cm, sepal_width_cm, petal_length_cm, petal_width_cm);\n",
      "        let class_2_pred_3: i16 = class_2_tree_3(sepal_length_cm, sepal_width_cm, petal_length_cm, petal_width_cm);\n",
      "        let class_0_pred_4: i16 = class_0_tree_4(sepal_length_cm, sepal_width_cm, petal_length_cm, petal_width_cm);\n",
      "        let class_1_pred_4: i16 = class_1_tree_4(sepal_length_cm, sepal_width_cm, petal_length_cm, petal_width_cm);\n",
      "        let class_2_pred_4: i16 = class_2_tree_4(sepal_length_cm, sepal_width_cm, petal_length_cm, petal_width_cm);\n",
      "        let class_0_pred_5: i16 = class_0_tree_5(sepal_length_cm, sepal_width_cm, petal_length_cm, petal_width_cm);\n",
      "        let class_1_pred_5: i16 = class_1_tree_5(sepal_length_cm, sepal_width_cm, petal_length_cm, petal_width_cm);\n",
      "        let class_2_pred_5: i16 = class_2_tree_5(sepal_length_cm, sepal_width_cm, petal_length_cm, petal_width_cm);\n",
      "        let class_0_proba: i16 = class_0_pred_0 + class_0_pred_1 + class_0_pred_2 + class_0_pred_3 + class_0_pred_4 + class_0_pred_5;\n",
      "        let class_1_proba: i16 = class_1_pred_0 + class_1_pred_1 + class_1_pred_2 + class_1_pred_3 + class_1_pred_4 + class_1_pred_5;\n",
      "        let class_2_proba: i16 = class_2_pred_0 + class_2_pred_1 + class_2_pred_2 + class_2_pred_3 + class_2_pred_4 + class_2_pred_5; \n",
      "    } \n",
      " }"
     ]
    }
   ],
   "source": [
    "!cat iris/src/main.leo"
   ]
  },
  {
   "cell_type": "code",
   "execution_count": 14,
   "metadata": {},
   "outputs": [
    {
     "data": {
      "text/plain": [
       "array([[0.10711455, 0.784332  , 0.10855347]], dtype=float32)"
      ]
     },
     "execution_count": 14,
     "metadata": {},
     "output_type": "execute_result"
    }
   ],
   "source": [
    "model.predict_proba(X_test.iloc[0:1])"
   ]
  },
  {
   "cell_type": "code",
   "execution_count": 15,
   "metadata": {},
   "outputs": [
    {
     "data": {
      "text/html": [
       "<div>\n",
       "<style scoped>\n",
       "    .dataframe tbody tr th:only-of-type {\n",
       "        vertical-align: middle;\n",
       "    }\n",
       "\n",
       "    .dataframe tbody tr th {\n",
       "        vertical-align: top;\n",
       "    }\n",
       "\n",
       "    .dataframe thead th {\n",
       "        text-align: right;\n",
       "    }\n",
       "</style>\n",
       "<table border=\"1\" class=\"dataframe\">\n",
       "  <thead>\n",
       "    <tr style=\"text-align: right;\">\n",
       "      <th></th>\n",
       "      <th>sepal_length_cm</th>\n",
       "      <th>sepal_width_cm</th>\n",
       "      <th>petal_length_cm</th>\n",
       "      <th>petal_width_cm</th>\n",
       "    </tr>\n",
       "  </thead>\n",
       "  <tbody>\n",
       "    <tr>\n",
       "      <th>60</th>\n",
       "      <td>49.777778</td>\n",
       "      <td>0.0</td>\n",
       "      <td>108.474576</td>\n",
       "      <td>96.0</td>\n",
       "    </tr>\n",
       "  </tbody>\n",
       "</table>\n",
       "</div>"
      ],
      "text/plain": [
       "    sepal_length_cm  sepal_width_cm  petal_length_cm  petal_width_cm\n",
       "60        49.777778             0.0       108.474576            96.0"
      ]
     },
     "execution_count": 15,
     "metadata": {},
     "output_type": "execute_result"
    }
   ],
   "source": [
    "X_test.iloc[0:1] * 2 ** 8"
   ]
  },
  {
   "cell_type": "code",
   "execution_count": 19,
   "metadata": {},
   "outputs": [
    {
     "data": {
      "text/plain": [
       "0.75372314453125"
      ]
     },
     "execution_count": 19,
     "metadata": {},
     "output_type": "execute_result"
    }
   ],
   "source": [
    "49396 / 2 ** 16"
   ]
  }
 ],
 "metadata": {
  "kernelspec": {
   "display_name": "venv",
   "language": "python",
   "name": "python3"
  },
  "language_info": {
   "codemirror_mode": {
    "name": "ipython",
    "version": 3
   },
   "file_extension": ".py",
   "mimetype": "text/x-python",
   "name": "python",
   "nbconvert_exporter": "python",
   "pygments_lexer": "ipython3",
   "version": "3.10.10"
  },
  "orig_nbformat": 4
 },
 "nbformat": 4,
 "nbformat_minor": 2
}
